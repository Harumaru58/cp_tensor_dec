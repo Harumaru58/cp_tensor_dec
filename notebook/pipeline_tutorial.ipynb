{
 "cells": [
  {
   "cell_type": "markdown",
   "id": "cce53479",
   "metadata": {},
   "source": [
    "**Tensor Decomposition and Classification**"
   ]
  },
  {
   "cell_type": "code",
   "execution_count": null,
   "id": "2da753fc",
   "metadata": {},
   "outputs": [],
   "source": [
    "import os\n",
    "import sys\n",
    "import numpy as np\n",
    "import pandas as pd\n",
    "import tensorly as tl\n",
    "from tensorly.decomposition import non_negative_parafac\n",
    "from sklearn.ensemble import RandomForestClassifier\n",
    "from sklearn.metrics import accuracy_score, classification_report, confusion_matrix\n",
    "from sklearn.preprocessing import LabelEncoder\n",
    "import matplotlib.pyplot as plt\n",
    "import seaborn as sns\n",
    "from scipy.optimize import nnls\n",
    "\n",
    "sys.path.append(os.path.abspath(os.path.join(os.getcwd(), \"..\")))\n",
    "\n",
    "from bandit import (TwoArmedBandit, PhenotypeExperiment, QLearningAgent)\n",
    "from tensor_dec import (load_and_create_tensor, perform_cp_decomposition, manual_l1_normalize)\n",
    "from rf_classification_proj import (load_train_test_datasets, create_tensor_from_data, )"
   ]
  },
  {
   "cell_type": "markdown",
   "id": "b6c94550",
   "metadata": {},
   "source": [
    "*Bandit Data Generation*"
   ]
  },
  {
   "cell_type": "code",
   "execution_count": null,
   "id": "7edfa433",
   "metadata": {},
   "outputs": [],
   "source": [
    "# load data\n",
    "load_train_test_datasets():\n",
    "train_path = \"datasets/raw_dataset_train_1000.csv\"\n",
    "test_path = \"datasets/raw_dataset_test_1000.csv\"\n",
    "\n",
    "if not (os.path.exists(train_path) and os.path.exists(test_path)):\n",
    "    print(\"Datasets not found. Generating them now...\")\n",
    "       \n",
    "    train_experiment = PhenotypeExperiment(n_agents=1000, n_trials=150, random_seed=42)\n",
    "    test_experiment = PhenotypeExperiment(n_agents=1000, n_trials=150, random_seed=434)\n",
    "    \n",
    "    train_df = train_experiment.run_experiment(include_internal_states=False)\n",
    "    test_df = test_experiment.run_experiment(include_internal_states=False)\n",
    "    \n",
    "    # Save\n",
    "    os.makedirs(\"datasets\", exist_ok=True)\n",
    "    train_df.to_csv(train_path, index=False)\n",
    "    test_df.to_csv(test_path, index=False)\n",
    "    "
   ]
  },
  {
   "cell_type": "code",
   "execution_count": null,
   "id": "c1852425",
   "metadata": {},
   "outputs": [],
   "source": []
  }
 ],
 "metadata": {
  "language_info": {
   "name": "python"
  }
 },
 "nbformat": 4,
 "nbformat_minor": 5
}
